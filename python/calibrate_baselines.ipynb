{
 "cells": [
  {
   "cell_type": "code",
   "execution_count": 90,
   "id": "d51ab410",
   "metadata": {},
   "outputs": [],
   "source": [
    "import pandas as pd\n",
    "import numpy as np\n",
    "from datetime import datetime\n",
    "import matplotlib.pyplot as plt\n",
    "import os\n",
    "import sqlite3\n",
    "from scipy.optimize import curve_fit\n",
    "from matplotlib.backends import backend_pdf"
   ]
  },
  {
   "cell_type": "code",
   "execution_count": 91,
   "id": "04c6811e",
   "metadata": {},
   "outputs": [],
   "source": [
    "# SUPPORT FUNCTIONS TO CONVERT CHANNEL ID TO BOARD/PMT ID\n",
    "# using hardware database inside icarus_data\n",
    "\n",
    "def readSqlitedb(database=\"/cvmfs/icarus.opensciencegrid.org/products/icarus/icarus_data/v09_62_00/icarus_data/database/ChannelMapICARUS.db\", table=\"pmt_placements\"):\n",
    "\n",
    "    # Read sqlite query results into a pandas DataFrame\n",
    "    con = sqlite3.connect(database)\n",
    "    df = pd.read_sql_query(\"SELECT * from {}\".format(table), con)\n",
    "\n",
    "    con.close()\n",
    "\n",
    "    return df\n",
    "\n",
    "def get_channel_id(db, board, digitizer_channel):\n",
    "    \n",
    "    ch = db.loc[(db['digitizer_label']==board) & (db['digitizer_ch_number']==digitizer_channel), ['channel_id']]\n",
    "    # print(board, \",\", digitizer_channel, \"-->\", ch.values[0][0])\n",
    "\n",
    "    return ch.values[0][0]\n",
    "\n",
    "def get_PMT_id(db, channels):\n",
    "     \n",
    "    if np.isscalar(channels):\n",
    "        pmt_id = db[db.channel_id==channels].pmt_id.values[0]\n",
    "        return pmt_id\n",
    "    else:\n",
    "        pmt_ids = [ db[db.channel_id==ch].pmt_id.values[0] for ch in channels ] \n",
    "        return pmt_ids\n",
    "    \n",
    "def get_channel_board(db, ch):\n",
    "    \n",
    "    board = db.loc[db['channel_id']==ch].digitizer_label.values[0]\n",
    "    return board"
   ]
  },
  {
   "cell_type": "code",
   "execution_count": 92,
   "id": "2e7a33d2",
   "metadata": {},
   "outputs": [],
   "source": [
    "# load data from all files for calibrations\n",
    "# returns dict: DC offset vs dataframes with data\n",
    "\n",
    "def loadfiles(rundb, basepath=\"../\"):\n",
    "    \n",
    "    data = {}\n",
    "    for offset, run in rundb.items():\n",
    "        file = basepath + run + \"/measChannelBaselines_run\" + run + \".csv\"\n",
    "        df = pd.read_csv(file, sep=',')\n",
    "        data[offset] = df\n",
    "    return data"
   ]
  },
  {
   "cell_type": "code",
   "execution_count": 93,
   "id": "7ab91dd8",
   "metadata": {},
   "outputs": [],
   "source": [
    "# checks if baselines is stable at the beginning of each run, for each channel, within expected fluctuations\n",
    "# necessary to make sure it is okay to use the mean computed on the first events\n",
    "# n: number of events\n",
    "# eps: acceptable fluctuations\n",
    "\n",
    "def check_baseline_stability(geodb, rundb, data, n=20, eps=10):\n",
    "    \n",
    "    issues = {}\n",
    "    \n",
    "    # for each run\n",
    "    for offset, run in rundb.items():\n",
    "    \n",
    "        timestamps = data[offset][\"timestamp\"].to_numpy()\n",
    "        time = [datetime.fromtimestamp(t).strftime('%H:%M') for t in timestamps]\n",
    "        fig = plt.figure()\n",
    "        c = []\n",
    "        \n",
    "        #for each channel\n",
    "        for ch in range(360):\n",
    "            \n",
    "            col = \"baseline_ch\" + str(ch)\n",
    "            label_name = \"Ch \" + str(ch)\n",
    "            baselines = data[offset][col].head(n).to_numpy()\n",
    "            \n",
    "            #check fluctuations\n",
    "            if np.std(baselines) > eps:\n",
    "                print(\"Warning: Run \" + run + \", Ch \" + str(ch) + \", board \" + get_channel_board(geodb,ch) + \": instable baseline!\")\n",
    "                plt.plot(time,data[offset][col],label=label_name)\n",
    "                c.append(ch)\n",
    "        \n",
    "        if fig.get_axes():\n",
    "            plt.title(run)\n",
    "            plt.xlabel(\"Time\")\n",
    "            plt.ylabel(\"Baseline [ADC]\")\n",
    "            plt.setp(plt.gca().get_xticklabels(), rotation=60, ha=\"right\")\n",
    "            plt.tight_layout()\n",
    "            plt.grid()\n",
    "            plt.legend(loc='center left', bbox_to_anchor=(1, 0.5))\n",
    "            plt.show()\n",
    "            issues[offset] = c\n",
    "            \n",
    "    return issues"
   ]
  },
  {
   "cell_type": "code",
   "execution_count": 94,
   "id": "bcfdfe9f",
   "metadata": {},
   "outputs": [],
   "source": [
    "# checks stability of using the median to compute the baseline at start\n",
    "# only for channels that have shown to be instable!\n",
    "# n: number of events\n",
    "\n",
    "def check_median_stability(issues, rundb, data, n=20):\n",
    "    \n",
    "    for offset in issues.keys():\n",
    "        \n",
    "        run = rundb[offset]\n",
    "        channels = issues[offset]\n",
    "        print(\"Run \" + run + \", pedestal \" + str(offset) + \": \" + str(len(channels)) + \" channels\")\n",
    "        fig = plt.figure(figsize=(18,40))\n",
    "        fig.subplots_adjust(hspace=0.4, wspace=0.4)\n",
    "        \n",
    "        i = 0\n",
    "        for ch in channels:\n",
    "            \n",
    "            col = \"baseline_ch\" + str(ch)\n",
    "            baselines = data[offset][col].head(n).to_numpy()\n",
    "            median = np.median(baselines)\n",
    "            i = i+1\n",
    "            ax = plt.subplot(len(channels),4,i)\n",
    "            ax.hist(baselines, bins=50, range=(np.amin(baselines)-10,np.amax(baselines)+10), histtype='bar', lw=2, label=\"Mean: {:.1f}\\nStd: {:.1f}\".format(np.mean(baselines),np.std(baselines)))\n",
    "            ax.axvline(x=median, color=\"red\", linestyle='dotted')\n",
    "            ax.legend()\n",
    "            ax.set_title(col)\n",
    "        \n",
    "        #fig.supxlabel(\"Baseline [ADC]\",fontsize=16)\n",
    "        plt.show()"
   ]
  },
  {
   "cell_type": "code",
   "execution_count": 95,
   "id": "dd81f9a4",
   "metadata": {},
   "outputs": [],
   "source": [
    "def get_channel_data(ch, data, n=20, minerr=1.0):\n",
    "    \n",
    "    bs = []\n",
    "    err = []\n",
    "    col = \"baseline_ch\" + str(ch)\n",
    "    for offset, df in data.items():\n",
    "        baselines = df[col].head(n).to_numpy()\n",
    "        bs.append(np.median(baselines))\n",
    "        rms = np.sqrt( np.square(np.subtract(baselines,np.median(baselines))).mean())\n",
    "        if rms < minerr: rms = minerr\n",
    "        err.append(rms)\n",
    "    \n",
    "    return list(data.keys()), bs, err\n",
    "\n",
    "def line(x,a,b):\n",
    "    return a*x+b"
   ]
  },
  {
   "cell_type": "code",
   "execution_count": 96,
   "id": "6e977e9b",
   "metadata": {},
   "outputs": [],
   "source": [
    "def extrapolate_line(bs_target, a, err_a, b, err_b):\n",
    "    \n",
    "    dacnom = (bs_target-b)/a\n",
    "    \n",
    "    dxdb = -1./a\n",
    "    dxda = (b-bs_target)/(a**2)\n",
    "    \n",
    "    edacnom = np.sqrt( (dxdb*err_b)**2 + (dxda*err_a)**2 )\n",
    "    \n",
    "    return dacnom, edacnom"
   ]
  },
  {
   "cell_type": "code",
   "execution_count": 97,
   "id": "5e9ff159",
   "metadata": {},
   "outputs": [],
   "source": [
    "def dofit( dcoffset, baseline, error_baseline, bs_target = 14747):\n",
    "    \n",
    "    a0 = (baseline[1]-baseline[0])/(dcoffset[1]-dcoffset[0])\n",
    "    b0 = baseline[0]\n",
    "    \n",
    "    params, pcov = curve_fit(line, dcoffset, baseline, sigma=error_baseline, absolute_sigma=True, p0=(a0,b0))\n",
    "            \n",
    "    stderr = np.sqrt(np.diag(pcov))\n",
    "    \n",
    "    xint = np.linspace( np.min(dcoffset)-10, np.max(dcoffset)+10, 1000 )\n",
    "    yint = line(xint, params[0], params[1])\n",
    "    \n",
    "    dacnom, edacnom= extrapolate_line( bs_target, params[0], stderr[0] , params[1], stderr[1] )\n",
    "    \n",
    "    return params, stderr, xint, yint, dacnom, edacnom"
   ]
  },
  {
   "cell_type": "markdown",
   "id": "b855dd4f",
   "metadata": {},
   "source": [
    "# Baseline calibration (all off)\n",
    "\n",
    "Several runs at different DC offset values of the DAC, using the configuration with `CalibOnConfig = false`, `LockTempCalibration = true` and `AdcCalibration = false`"
   ]
  },
  {
   "cell_type": "code",
   "execution_count": 98,
   "id": "c1ac3cd5",
   "metadata": {},
   "outputs": [],
   "source": [
    "rundb = { 0:\"9483\", 3277:\"9484\", 6554:\"9451\", 9831:\"9485\", 13108:\"9468\", 32767:\"9471\"}\n",
    "geodb = readSqlitedb()   \n",
    "\n",
    "data = loadfiles(rundb, basepath=\"../runs/\")"
   ]
  },
  {
   "cell_type": "code",
   "execution_count": 99,
   "id": "ba3f4701",
   "metadata": {},
   "outputs": [
    {
     "name": "stdout",
     "output_type": "stream",
     "text": [
      "Warning: Run 9483, Ch 48, board EE-BOT-A: instable baseline!\n",
      "Warning: Run 9483, Ch 50, board EE-TOP-C: instable baseline!\n",
      "Warning: Run 9483, Ch 53, board EE-TOP-C: instable baseline!\n",
      "Warning: Run 9483, Ch 54, board EE-TOP-C: instable baseline!\n",
      "Warning: Run 9483, Ch 55, board EE-TOP-C: instable baseline!\n",
      "Warning: Run 9483, Ch 56, board EE-TOP-C: instable baseline!\n",
      "Warning: Run 9483, Ch 57, board EE-TOP-C: instable baseline!\n",
      "Warning: Run 9483, Ch 58, board EE-TOP-C: instable baseline!\n",
      "Warning: Run 9483, Ch 60, board EE-TOP-B: instable baseline!\n",
      "Warning: Run 9483, Ch 61, board EE-TOP-B: instable baseline!\n",
      "Warning: Run 9483, Ch 62, board EE-TOP-B: instable baseline!\n",
      "Warning: Run 9483, Ch 63, board EE-TOP-B: instable baseline!\n",
      "Warning: Run 9483, Ch 64, board EE-TOP-B: instable baseline!\n",
      "Warning: Run 9483, Ch 167, board EW-TOP-B: instable baseline!\n"
     ]
    },
    {
     "data": {
      "image/png": "[encoded data removed]",
      "text/plain": [
       "<Figure size 432x288 with 1 Axes>"
      ]
     },
     "metadata": {
      "needs_background": "light"
     },
     "output_type": "display_data"
    },
    {
     "data": {
      "text/plain": [
       "<Figure size 432x288 with 0 Axes>"
      ]
     },
     "metadata": {},
     "output_type": "display_data"
    },
    {
     "data": {
      "text/plain": [
       "<Figure size 432x288 with 0 Axes>"
      ]
     },
     "metadata": {},
     "output_type": "display_data"
    },
    {
     "data": {
      "text/plain": [
       "<Figure size 432x288 with 0 Axes>"
      ]
     },
     "metadata": {},
     "output_type": "display_data"
    },
    {
     "data": {
      "text/plain": [
       "<Figure size 432x288 with 0 Axes>"
      ]
     },
     "metadata": {},
     "output_type": "display_data"
    },
    {
     "data": {
      "text/plain": [
       "<Figure size 432x288 with 0 Axes>"
      ]
     },
     "metadata": {},
     "output_type": "display_data"
    }
   ],
   "source": [
    "issues = check_baseline_stability(geodb, rundb, data, n=20)\n",
    "#print(issues.items())"
   ]
  },
  {
   "cell_type": "code",
   "execution_count": 100,
   "id": "a82c72bb",
   "metadata": {
    "scrolled": true
   },
   "outputs": [
    {
     "name": "stdout",
     "output_type": "stream",
     "text": [
      "Run 9483, pedestal 0: 14 channels\n"
     ]
    },
    {
     "data": {
      "image/png": "[encoded data removed]",
      "text/plain": [
       "<Figure size 1296x2880 with 14 Axes>"
      ]
     },
     "metadata": {
      "needs_background": "light"
     },
     "output_type": "display_data"
    }
   ],
   "source": [
    "check_median_stability(issues, rundb, data, n=20)"
   ]
  },
  {
   "cell_type": "markdown",
   "id": "18134d56",
   "metadata": {},
   "source": [
    "### Plot one channel"
   ]
  },
  {
   "cell_type": "code",
   "execution_count": 101,
   "id": "ce5ad466",
   "metadata": {},
   "outputs": [
    {
     "data": {
      "image/png": "[encoded data removed]",
      "text/plain": [
       "<Figure size 720x345.6 with 1 Axes>"
      ]
     },
     "metadata": {
      "needs_background": "light"
     },
     "output_type": "display_data"
    }
   ],
   "source": [
    "channel_id = 1\n",
    "dac, bs, err = get_channel_data(channel_id, data, n=20)\n",
    "target = 14747\n",
    "\n",
    "fig, ax = plt.subplots(1,1, figsize=(10, 4.8))\n",
    "kargs={'marker':'o', 'lw':0.0, 'elinewidth':2.0}\n",
    "    \n",
    "out=plt.errorbar( x=dac, y=bs, yerr=err, label=(\"Channel ID: %d\" % channel_id), **kargs)\n",
    "p, ep, xint, yint, dacnom, edacnom = dofit(dac, bs, err, bs_target=target)\n",
    "            \n",
    "label= \"FIT $ax + b$: \\n\"\n",
    "label+=\"a: %.2e $\\pm$ %3.e\\n\" % ( p[0], ep[0] ) \n",
    "label+=\"b: %.2f $\\pm$ %.3f\\n\" % ( p[1], ep[1] )\n",
    "label+='DAC(%d ADC)= %d $\\pm$ %d' % ( target, dacnom, edacnom )\n",
    "            \n",
    "plt.plot(xint, yint, color=out[0].get_color(), lw=1.0, label=label)\n",
    "    \n",
    "plt.xlabel(\"DAC setting [0-65535]\")\n",
    "plt.ylabel(\"Baseline [ADC]\")\n",
    "plt.legend(fontsize=16)\n",
    "    \n",
    "fig.tight_layout()"
   ]
  },
  {
   "cell_type": "markdown",
   "id": "18ee1d39",
   "metadata": {},
   "source": [
    "### Plot everything"
   ]
  },
  {
   "cell_type": "code",
   "execution_count": 102,
   "id": "56b7db56",
   "metadata": {},
   "outputs": [],
   "source": [
    "pdf = backend_pdf.PdfPages(\"calibrations/baseline_calibration_16Feb2023.pdf\")\n",
    "target = 14747\n",
    "\n",
    "calibration = []\n",
    "DAC_nominal = []\n",
    "\n",
    "for channel_id in range(0, 360):\n",
    "            \n",
    "    # Define the plot\n",
    "    fig, ax = plt.subplots(1,1, figsize=(10, 4.8))\n",
    "    kargs={'marker':'o', 'lw':0.0, 'elinewidth':2.0}\n",
    "\n",
    "    #Fetch data\n",
    "    dac, bs, ebs = get_channel_data(channel_id, data, n=20)\n",
    "             \n",
    "    out=ax.errorbar( x=dac, y=bs, yerr=ebs, label=(\"Channel ID: %d\" % channel_id), **kargs )\n",
    "    \n",
    "    p, ep, xint, yint, dacnom, edacnom = dofit(dac, bs, ebs, bs_target=target)\n",
    "   \n",
    "    calibration.append( {\"channel_id\": channel_id, \n",
    "                    \"p0\": p[0], \n",
    "                    \"ep0\": ep[0], \n",
    "                    \"p1\": p[1], \n",
    "                    \"ep1\": ep[1], \n",
    "                   })\n",
    "    \n",
    "    DAC_nominal.append(dacnom)\n",
    "\n",
    "    label= \"FIT $ax + b$: \\n\"\n",
    "    label+=\"a: %.2e $\\pm$ %3.e\\n\" % ( p[0], ep[0] ) \n",
    "    label+=\"b: %.2f $\\pm$ %.3f\\n\" % ( p[1], ep[1] )\n",
    "    label+='DAC(%d ADC)= %d $\\pm$ %d' % ( target, dacnom, edacnom )\n",
    "            \n",
    "    ax.plot(xint, yint, color=out[0].get_color(), lw=1.0, label=label)\n",
    "    \n",
    "    ax.set_ylabel(\"DAC setting [0-65535]\")\n",
    "    ax.set_xlabel(\"Baseline [ADC]\")\n",
    "    ax.legend(fontsize=16)\n",
    "    \n",
    "    fig.tight_layout()\n",
    "    pdf.savefig( fig )\n",
    "    \n",
    "    plt.close()\n",
    "\n",
    "\n",
    "pdf.close()"
   ]
  },
  {
   "cell_type": "code",
   "execution_count": 103,
   "id": "5d68b24e",
   "metadata": {},
   "outputs": [],
   "source": [
    "calibDB = pd.DataFrame(calibration)\n",
    "calibDB.to_csv(\"calibrations/baseline_calibration_16Feb2023.csv\",sep=',')"
   ]
  },
  {
   "cell_type": "markdown",
   "id": "2ffbecb0",
   "metadata": {},
   "source": [
    "## Produce output files"
   ]
  },
  {
   "cell_type": "markdown",
   "id": "aa7b206d",
   "metadata": {},
   "source": [
    "### Write requested DC offset"
   ]
  },
  {
   "cell_type": "code",
   "execution_count": 104,
   "id": "f61d342a",
   "metadata": {},
   "outputs": [
    {
     "name": "stdout",
     "output_type": "stream",
     "text": [
      "Writing DC offsets to equalize baselines at 14747\n"
     ]
    }
   ],
   "source": [
    "print(\"Writing DC offsets to equalize baselines at \" + str(target))\n",
    "\n",
    "path = \"calibrations/DC_offsets_for_\"+str(target)+\"_16Feb2023.csv\"\n",
    "ofile = open(path,\"w\")\n",
    "header = \"channel_id,baseline,DC_offset\\n\"\n",
    "ofile.write(header)\n",
    "\n",
    "for channel_id in range(0,360):\n",
    "    out = str(channel_id) + \",\" + str(target) + \",\"\n",
    "    out += str(int(DAC_nominal[channel_id]))+\"\\n\"\n",
    "    ofile.write(out)\n",
    "    \n",
    "ofile.close()"
   ]
  },
  {
   "cell_type": "code",
   "execution_count": 105,
   "id": "0bef8d4e",
   "metadata": {},
   "outputs": [
    {
     "name": "stdout",
     "output_type": "stream",
     "text": [
      "Writing baselines corresponding to 6554\n"
     ]
    }
   ],
   "source": [
    "current = 6554\n",
    "print(\"Writing baselines corresponding to \" + str(current))\n",
    "\n",
    "path = \"calibrations/baselines_at_\"+str(current)+\"_16Feb2023.csv\"\n",
    "ofile = open(path,\"w\")\n",
    "header = \"channel_id,baseline\\n\"\n",
    "ofile.write(header)\n",
    "\n",
    "for channel_id in range(0,360):\n",
    "    \n",
    "    a = calibDB[calibDB.channel_id==channel_id].p0.values[0]\n",
    "    b = calibDB[calibDB.channel_id==channel_id].p1.values[0]\n",
    "    bs = line(current,a,b)\n",
    "    \n",
    "    out = str(channel_id) + \",\" + str(int(bs))+\"\\n\"\n",
    "    ofile.write(out)\n",
    "    \n",
    "ofile.close()"
   ]
  },
  {
   "cell_type": "markdown",
   "id": "a5c60039",
   "metadata": {},
   "source": [
    "# Baseline calibration (standard runs)\n",
    "Several runs at different DC offset values of the DAC, using the configuration with `CalibOnConfig = true`, `LockTempCalibration = true` and `AdcCalibration = true` (using old DAQ code for which it is always enabled)"
   ]
  },
  {
   "cell_type": "code",
   "execution_count": 106,
   "id": "470f8380",
   "metadata": {},
   "outputs": [],
   "source": [
    "rundb = { 0:\"9572\", 3277:\"9573\", 6554:\"9564\", 9831:\"9574\", 13108:\"9575\", 32767:\"9576\"}\n",
    "geodb = readSqlitedb()   \n",
    "\n",
    "data = loadfiles(rundb, basepath=\"../runs/\")"
   ]
  },
  {
   "cell_type": "code",
   "execution_count": 107,
   "id": "53b1396b",
   "metadata": {},
   "outputs": [
    {
     "data": {
      "text/plain": [
       "<Figure size 432x288 with 0 Axes>"
      ]
     },
     "metadata": {},
     "output_type": "display_data"
    },
    {
     "data": {
      "text/plain": [
       "<Figure size 432x288 with 0 Axes>"
      ]
     },
     "metadata": {},
     "output_type": "display_data"
    },
    {
     "data": {
      "text/plain": [
       "<Figure size 432x288 with 0 Axes>"
      ]
     },
     "metadata": {},
     "output_type": "display_data"
    },
    {
     "data": {
      "text/plain": [
       "<Figure size 432x288 with 0 Axes>"
      ]
     },
     "metadata": {},
     "output_type": "display_data"
    },
    {
     "data": {
      "text/plain": [
       "<Figure size 432x288 with 0 Axes>"
      ]
     },
     "metadata": {},
     "output_type": "display_data"
    },
    {
     "data": {
      "text/plain": [
       "<Figure size 432x288 with 0 Axes>"
      ]
     },
     "metadata": {},
     "output_type": "display_data"
    }
   ],
   "source": [
    "issues = check_baseline_stability(geodb, rundb, data, n=20)"
   ]
  },
  {
   "cell_type": "code",
   "execution_count": 108,
   "id": "1ea08410",
   "metadata": {},
   "outputs": [],
   "source": [
    "check_median_stability(issues, rundb, data, n=20)"
   ]
  },
  {
   "cell_type": "markdown",
   "id": "c80eac0d",
   "metadata": {},
   "source": [
    "### Plot one channel"
   ]
  },
  {
   "cell_type": "code",
   "execution_count": 109,
   "id": "917808b9",
   "metadata": {},
   "outputs": [
    {
     "data": {
      "image/png": "[encoded data removed]",
      "text/plain": [
       "<Figure size 720x345.6 with 1 Axes>"
      ]
     },
     "metadata": {
      "needs_background": "light"
     },
     "output_type": "display_data"
    }
   ],
   "source": [
    "channel_id = 157\n",
    "dac, bs, err = get_channel_data(channel_id, data, n=20, minerr=1.0)\n",
    "target = 14747\n",
    "\n",
    "fig, ax = plt.subplots(1,1, figsize=(10, 4.8))\n",
    "kargs={'marker':'o', 'lw':0.0, 'elinewidth':2.0}\n",
    "    \n",
    "out=plt.errorbar( x=dac, y=bs, yerr=err, label=(\"Channel ID: %d\" % channel_id), **kargs)\n",
    "p, ep, xint, yint, dacnom, edacnom = dofit(dac, bs, err, bs_target=target)\n",
    "            \n",
    "label= \"FIT $ax + b$: \\n\"\n",
    "label+=\"a: %.2e $\\pm$ %3.e\\n\" % ( p[0], ep[0] ) \n",
    "label+=\"b: %.2f $\\pm$ %.3f\\n\" % ( p[1], ep[1] )\n",
    "label+='DAC(%d ADC)= %d $\\pm$ %d' % ( target, dacnom, edacnom )\n",
    "            \n",
    "plt.plot(xint, yint, color=out[0].get_color(), lw=1.0, label=label)\n",
    "    \n",
    "plt.xlabel(\"DAC setting [0-65535]\")\n",
    "plt.ylabel(\"Baseline [ADC]\")\n",
    "plt.legend(fontsize=16)\n",
    "    \n",
    "fig.tight_layout()"
   ]
  },
  {
   "cell_type": "markdown",
   "id": "b0a19849",
   "metadata": {},
   "source": [
    "### Plot everything"
   ]
  },
  {
   "cell_type": "code",
   "execution_count": 110,
   "id": "e8f323e1",
   "metadata": {},
   "outputs": [],
   "source": [
    "pdf = backend_pdf.PdfPages(\"calibrations/baseline_calibration_22Feb2023.pdf\")\n",
    "target = 14747\n",
    "\n",
    "calibration = []\n",
    "DAC_nominal = []\n",
    "\n",
    "for channel_id in range(0, 360):\n",
    "            \n",
    "    # Define the plot\n",
    "    fig, ax = plt.subplots(1,1, figsize=(10, 4.8))\n",
    "    kargs={'marker':'o', 'lw':0.0, 'elinewidth':2.0}\n",
    "\n",
    "    #Fetch data\n",
    "    dac, bs, ebs = get_channel_data(channel_id, data, n=20)\n",
    "             \n",
    "    out=ax.errorbar( x=dac, y=bs, yerr=ebs, label=(\"Channel ID: %d\" % channel_id), **kargs )\n",
    "    \n",
    "    p, ep, xint, yint, dacnom, edacnom = dofit(dac, bs, ebs, bs_target=target)\n",
    "   \n",
    "    calibration.append( {\"channel_id\": channel_id, \n",
    "                    \"p0\": p[0], \n",
    "                    \"ep0\": ep[0], \n",
    "                    \"p1\": p[1], \n",
    "                    \"ep1\": ep[1], \n",
    "                   })\n",
    "    \n",
    "    DAC_nominal.append(dacnom)\n",
    "\n",
    "    label= \"FIT $ax + b$: \\n\"\n",
    "    label+=\"a: %.2e $\\pm$ %3.e\\n\" % ( p[0], ep[0] ) \n",
    "    label+=\"b: %.2f $\\pm$ %.3f\\n\" % ( p[1], ep[1] )\n",
    "    label+='DAC(%d ADC)= %d $\\pm$ %d' % ( target, dacnom, edacnom )\n",
    "            \n",
    "    ax.plot(xint, yint, color=out[0].get_color(), lw=1.0, label=label)\n",
    "    \n",
    "    ax.set_ylabel(\"DAC setting [0-65535]\")\n",
    "    ax.set_xlabel(\"Baseline [ADC]\")\n",
    "    ax.legend(fontsize=16)\n",
    "    \n",
    "    fig.tight_layout()\n",
    "    pdf.savefig( fig )\n",
    "    \n",
    "    plt.close()\n",
    "\n",
    "\n",
    "pdf.close()"
   ]
  },
  {
   "cell_type": "code",
   "execution_count": 111,
   "id": "26e78d0b",
   "metadata": {},
   "outputs": [],
   "source": [
    "calibDB = pd.DataFrame(calibration)\n",
    "calibDB.to_csv(\"calibrations/baseline_calibration_22Feb2023.csv\",sep=',')"
   ]
  },
  {
   "cell_type": "markdown",
   "id": "fdbc6d82",
   "metadata": {},
   "source": [
    "### Write requested DC offset"
   ]
  },
  {
   "cell_type": "code",
   "execution_count": 112,
   "id": "e2b2a5c2",
   "metadata": {},
   "outputs": [
    {
     "name": "stdout",
     "output_type": "stream",
     "text": [
      "Writing DC offsets to equalize baselines at 14747\n"
     ]
    }
   ],
   "source": [
    "print(\"Writing DC offsets to equalize baselines at \" + str(target))\n",
    "\n",
    "path = \"calibrations/DC_offsets_for_\"+str(target)+\"_22Feb2023.csv\"\n",
    "ofile = open(path,\"w\")\n",
    "header = \"channel_id,baseline,DC_offset\\n\"\n",
    "ofile.write(header)\n",
    "\n",
    "for channel_id in range(0,360):\n",
    "    out = str(channel_id) + \",\" + str(target) + \",\"\n",
    "    out += str(int(DAC_nominal[channel_id]))+\"\\n\"\n",
    "    ofile.write(out)\n",
    "    \n",
    "ofile.close()"
   ]
  },
  {
   "cell_type": "code",
   "execution_count": 113,
   "id": "2c2d1c80",
   "metadata": {},
   "outputs": [
    {
     "name": "stdout",
     "output_type": "stream",
     "text": [
      "Writing baselines corresponding to 6554\n"
     ]
    }
   ],
   "source": [
    "current = 6554\n",
    "print(\"Writing baselines corresponding to \" + str(current))\n",
    "\n",
    "path = \"calibrations/baselines_at_\"+str(current)+\"_22Feb2023.csv\"\n",
    "ofile = open(path,\"w\")\n",
    "header = \"channel_id,baseline\\n\"\n",
    "ofile.write(header)\n",
    "\n",
    "for channel_id in range(0,360):\n",
    "    \n",
    "    a = calibDB[calibDB.channel_id==channel_id].p0.values[0]\n",
    "    b = calibDB[calibDB.channel_id==channel_id].p1.values[0]\n",
    "    bs = line(current,a,b)\n",
    "    \n",
    "    out = str(channel_id) + \",\" + str(int(bs))+\"\\n\"\n",
    "    ofile.write(out)\n",
    "    \n",
    "ofile.close()"
   ]
  },
  {
   "cell_type": "markdown",
   "id": "3dcd4228",
   "metadata": {},
   "source": [
    "## Second order calibration attempt (standard configuration)\n",
    "Using same calibration runs, except the point at DAC = 32k + adding Run 9583 data"
   ]
  },
  {
   "cell_type": "code",
   "execution_count": 121,
   "id": "fbbe4020",
   "metadata": {},
   "outputs": [],
   "source": [
    "def get_channel_data_diff_pedestals(run, ch, dacpath, basepath=\"../runs/\", n=20, minerr=20.0):\n",
    "    \n",
    "    # get baseline\n",
    "    file = basepath + str(run) + \"/measChannelBaselines_run\" + str(run) + \".csv\"\n",
    "    df = pd.read_csv(file, sep=',')\n",
    "    col = \"baseline_ch\" + str(ch)\n",
    "    baselines = df[col].head(n).to_numpy()\n",
    "    bs = np.median(baselines)\n",
    "    err = np.sqrt( np.square(np.subtract(baselines,np.median(baselines))).mean())\n",
    "    if err < minerr: err = minerr\n",
    "    \n",
    "    #get dac value\n",
    "    df2 = pd.read_csv(dacpath, sep=\",\")\n",
    "    dac = df2.loc[df2['channel_id']==ch, ['DC_offset']].values[0][0]\n",
    "    \n",
    "    return dac, bs, err"
   ]
  },
  {
   "cell_type": "code",
   "execution_count": 122,
   "id": "3becf324",
   "metadata": {},
   "outputs": [],
   "source": [
    "rundb = { 3277:\"9573\", 6554:\"9564\", 9831:\"9574\", 13108:\"9575\"} #0:\"9572\",  these are standard\n",
    "addrun = 9583\n",
    "\n",
    "geodb = readSqlitedb()   \n",
    "data = loadfiles(rundb, basepath=\"../runs/\")"
   ]
  },
  {
   "cell_type": "markdown",
   "id": "308dfa7a",
   "metadata": {},
   "source": [
    "### Plot single channel"
   ]
  },
  {
   "cell_type": "code",
   "execution_count": 123,
   "id": "36e99c7c",
   "metadata": {},
   "outputs": [
    {
     "data": {
      "image/png": "[encoded data removed]",
      "text/plain": [
       "<Figure size 720x345.6 with 1 Axes>"
      ]
     },
     "metadata": {
      "needs_background": "light"
     },
     "output_type": "display_data"
    }
   ],
   "source": [
    "channel_id = 157\n",
    "target = 14747\n",
    "\n",
    "dac, bs, err = get_channel_data(channel_id, data, n=20, minerr=20.0)\n",
    "n_dac, n_bs, n_err = get_channel_data_diff_pedestals(addrun, channel_id, \n",
    "                                                     dacpath=\"calibrations/DC_offsets_for_14747_22Feb2023.csv\",\n",
    "                                                     basepath = \"../runs/\",\n",
    "                                                     n=20, minerr=20.)\n",
    "\n",
    "dac.append(n_dac)\n",
    "bs.append(n_bs)\n",
    "err.append(n_err)\n",
    "\n",
    "fig, ax = plt.subplots(1,1, figsize=(10, 4.8))\n",
    "kargs={'marker':'o', 'lw':0.0, 'elinewidth':2.0}\n",
    "    \n",
    "out=plt.errorbar( x=dac, y=bs, yerr=err, label=(\"Channel ID: %d\" % channel_id), **kargs)\n",
    "p, ep, xint, yint, dacnom, edacnom = dofit(dac, bs, err, bs_target=target)\n",
    "            \n",
    "label= \"FIT $ax + b$: \\n\"\n",
    "label+=\"a: %.2e $\\pm$ %3.e\\n\" % ( p[0], ep[0] ) \n",
    "label+=\"b: %.2f $\\pm$ %.3f\\n\" % ( p[1], ep[1] )\n",
    "label+='DAC(%d ADC)= %d $\\pm$ %d' % ( target, dacnom, edacnom )\n",
    "            \n",
    "plt.plot(xint, yint, color=out[0].get_color(), lw=1.0, label=label)\n",
    "    \n",
    "plt.xlabel(\"DAC setting [0-65535]\")\n",
    "plt.ylabel(\"Baseline [ADC]\")\n",
    "plt.legend(fontsize=16)\n",
    "    \n",
    "fig.tight_layout()"
   ]
  },
  {
   "cell_type": "markdown",
   "id": "7b446f9c",
   "metadata": {},
   "source": [
    "### Plot everything"
   ]
  },
  {
   "cell_type": "code",
   "execution_count": 124,
   "id": "17066cc3",
   "metadata": {},
   "outputs": [],
   "source": [
    "pdf = backend_pdf.PdfPages(\"calibrations/baseline_calibration_2nd_23Feb2023.pdf\")\n",
    "target = 14747\n",
    "\n",
    "calibration = []\n",
    "DAC_nominal = []\n",
    "\n",
    "for channel_id in range(0, 360):\n",
    "            \n",
    "    # Define the plot\n",
    "    fig, ax = plt.subplots(1,1, figsize=(10, 4.8))\n",
    "    kargs={'marker':'o', 'lw':0.0, 'elinewidth':2.0}\n",
    "\n",
    "    #Fetch data\n",
    "    dac, bs, ebs = get_channel_data(channel_id, data, n=20)\n",
    "    n_dac, n_bs, n_err = get_channel_data_diff_pedestals(addrun, channel_id, \n",
    "                                                     dacpath=\"calibrations/DC_offsets_for_14747_22Feb2023.csv\",\n",
    "                                                     basepath = \"../runs/\",\n",
    "                                                     n=20, minerr=20.)\n",
    "    dac.append(n_dac)\n",
    "    bs.append(n_bs)\n",
    "    ebs.append(n_err)\n",
    "             \n",
    "    out=ax.errorbar( x=dac, y=bs, yerr=ebs, label=(\"Channel ID: %d\" % channel_id), **kargs )\n",
    "    \n",
    "    p, ep, xint, yint, dacnom, edacnom = dofit(dac, bs, ebs, bs_target=target)\n",
    "   \n",
    "    calibration.append( {\"channel_id\": channel_id, \n",
    "                    \"p0\": p[0], \n",
    "                    \"ep0\": ep[0], \n",
    "                    \"p1\": p[1], \n",
    "                    \"ep1\": ep[1], \n",
    "                   })\n",
    "    \n",
    "    DAC_nominal.append(dacnom)\n",
    "\n",
    "    label= \"FIT $ax + b$: \\n\"\n",
    "    label+=\"a: %.2e $\\pm$ %3.e\\n\" % ( p[0], ep[0] ) \n",
    "    label+=\"b: %.2f $\\pm$ %.3f\\n\" % ( p[1], ep[1] )\n",
    "    label+='DAC(%d ADC)= %d $\\pm$ %d' % ( target, dacnom, edacnom )\n",
    "            \n",
    "    ax.plot(xint, yint, color=out[0].get_color(), lw=1.0, label=label)\n",
    "    \n",
    "    ax.set_ylabel(\"DAC setting [0-65535]\")\n",
    "    ax.set_xlabel(\"Baseline [ADC]\")\n",
    "    ax.legend(fontsize=16)\n",
    "    \n",
    "    fig.tight_layout()\n",
    "    pdf.savefig( fig )\n",
    "    \n",
    "    plt.close()\n",
    "\n",
    "\n",
    "pdf.close()"
   ]
  },
  {
   "cell_type": "code",
   "execution_count": 125,
   "id": "67246c1d",
   "metadata": {},
   "outputs": [],
   "source": [
    "calibDB = pd.DataFrame(calibration)\n",
    "calibDB.to_csv(\"calibrations/baseline_calibration_2nd_23Feb2023.csv\",sep=',')"
   ]
  },
  {
   "cell_type": "markdown",
   "id": "5ceca417",
   "metadata": {},
   "source": [
    "### Writing outputs"
   ]
  },
  {
   "cell_type": "code",
   "execution_count": 126,
   "id": "53a36ddd",
   "metadata": {},
   "outputs": [
    {
     "name": "stdout",
     "output_type": "stream",
     "text": [
      "Writing DC offsets to equalize baselines at 14747\n"
     ]
    }
   ],
   "source": [
    "print(\"Writing DC offsets to equalize baselines at \" + str(target))\n",
    "\n",
    "path = \"calibrations/DC_offsets_for_\"+str(target)+\"_2nd_23Feb2023.csv\"\n",
    "ofile = open(path,\"w\")\n",
    "header = \"channel_id,baseline,DC_offset\\n\"\n",
    "ofile.write(header)\n",
    "\n",
    "for channel_id in range(0,360):\n",
    "    out = str(channel_id) + \",\" + str(target) + \",\"\n",
    "    out += str(int(DAC_nominal[channel_id]))+\"\\n\"\n",
    "    ofile.write(out)\n",
    "    \n",
    "ofile.close()"
   ]
  },
  {
   "cell_type": "code",
   "execution_count": 127,
   "id": "263f60f8",
   "metadata": {},
   "outputs": [
    {
     "name": "stdout",
     "output_type": "stream",
     "text": [
      "Writing baselines corresponding to 6554\n"
     ]
    }
   ],
   "source": [
    "current = 6554\n",
    "print(\"Writing baselines corresponding to \" + str(current))\n",
    "\n",
    "path = \"calibrations/baselines_at_\"+str(current)+\"_2nd_23Feb2023.csv\"\n",
    "ofile = open(path,\"w\")\n",
    "header = \"channel_id,baseline\\n\"\n",
    "ofile.write(header)\n",
    "\n",
    "for channel_id in range(0,360):\n",
    "    \n",
    "    a = calibDB[calibDB.channel_id==channel_id].p0.values[0]\n",
    "    b = calibDB[calibDB.channel_id==channel_id].p1.values[0]\n",
    "    bs = line(current,a,b)\n",
    "    \n",
    "    out = str(channel_id) + \",\" + str(int(bs))+\"\\n\"\n",
    "    ofile.write(out)\n",
    "    \n",
    "ofile.close()"
   ]
  },
  {
   "cell_type": "markdown",
   "id": "2c00c66e",
   "metadata": {},
   "source": [
    "## Third order calibration: fixing single channels"
   ]
  },
  {
   "cell_type": "code",
   "execution_count": null,
   "id": "9558fa4e",
   "metadata": {},
   "outputs": [],
   "source": []
  }
 ],
 "metadata": {
  "kernelspec": {
   "display_name": "Python 3 (ipykernel)",
   "language": "python",
   "name": "python3"
  },
  "language_info": {
   "codemirror_mode": {
    "name": "ipython",
    "version": 3
   },
   "file_extension": ".py",
   "mimetype": "text/x-python",
   "name": "python",
   "nbconvert_exporter": "python",
   "pygments_lexer": "ipython3",
   "version": "3.9.2"
  }
 },
 "nbformat": 4,
 "nbformat_minor": 5
}
