{
 "cells": [
  {
   "cell_type": "code",
   "execution_count": 1,
   "id": "d51ab410",
   "metadata": {},
   "outputs": [],
   "source": [
    "import pandas as pd\n",
    "import numpy as np\n",
    "from datetime import datetime\n",
    "import matplotlib.pyplot as plt\n",
    "import os\n",
    "import sqlite3\n",
    "from scipy.optimize import curve_fit\n",
    "from matplotlib.backends import backend_pdf"
   ]
  },
  {
   "cell_type": "code",
   "execution_count": 2,
   "id": "04c6811e",
   "metadata": {},
   "outputs": [],
   "source": [
    "# SUPPORT FUNCTIONS TO CONVERT CHANNEL ID TO BOARD/PMT ID\n",
    "# using hardware database inside icarus_data\n",
    "\n",
    "def readSqlitedb(database=\"/cvmfs/icarus.opensciencegrid.org/products/icarus/icarus_data/v09_79_01/icarus_data/database/ChannelMapICARUS_20230829.db\", table=\"pmt_placements_29aug2023\"):\n",
    "\n",
    "    # Read sqlite query results into a pandas DataFrame\n",
    "    con = sqlite3.connect(database)\n",
    "    df = pd.read_sql_query(\"SELECT * from {}\".format(table), con)\n",
    "\n",
    "    con.close()\n",
    "\n",
    "    return df\n",
    "\n",
    "def get_channel_id(db, board, digitizer_channel):\n",
    "    \n",
    "    ch = db.loc[(db['digitizer_label']==board) & (db['digitizer_ch_number']==digitizer_channel), ['channel_id']]\n",
    "    # print(board, \",\", digitizer_channel, \"-->\", ch.values[0][0])\n",
    "\n",
    "    return ch.values[0][0]\n",
    "\n",
    "def get_PMT_id(db, channels):\n",
    "     \n",
    "    if np.isscalar(channels):\n",
    "        pmt_id = db[db.channel_id==channels].pmt_id.values[0]\n",
    "        return pmt_id\n",
    "    else:\n",
    "        pmt_ids = [ db[db.channel_id==ch].pmt_id.values[0] for ch in channels ] \n",
    "        return pmt_ids\n",
    "    \n",
    "def get_channel_board(db, ch):\n",
    "    \n",
    "    board = db.loc[db['channel_id']==ch].digitizer_label.values[0]\n",
    "    return board"
   ]
  },
  {
   "cell_type": "code",
   "execution_count": 3,
   "id": "2e7a33d2",
   "metadata": {},
   "outputs": [],
   "source": [
    "# load data from all files for calibrations\n",
    "# returns dict: DC offset vs dataframes with data\n",
    "\n",
    "def loadfiles(rundb, basepath=\"../runs/\"):\n",
    "    data = {}\n",
    "    for label, run in rundb.items():\n",
    "        file = basepath + str(run) + \"/measChannelBaselines_run\" + str(run) + \".csv\"\n",
    "        df = pd.read_csv(file, sep=',')    \n",
    "        data[label] = df\n",
    "    return data"
   ]
  },
  {
   "cell_type": "code",
   "execution_count": 4,
   "id": "c26c86fb",
   "metadata": {},
   "outputs": [],
   "source": [
    "# checks if baselines is stable at the beginning of each run, for each channel, within expected fluctuations\n",
    "# necessary to make sure it is okay to use the mean computed on the first events\n",
    "# n: number of events\n",
    "# eps: acceptable fluctuations\n",
    "\n",
    "def check_baseline_stability(geodb, rundb, data, n=20, eps=10):\n",
    "    \n",
    "    issues = {}\n",
    "    \n",
    "    # for each run\n",
    "    for lab, run in rundb.items():\n",
    "    \n",
    "        timestamps = data[lab][\"timestamp\"].to_numpy()\n",
    "        time = [datetime.fromtimestamp(t).strftime('%H:%M') for t in timestamps]\n",
    "        fig = plt.figure()\n",
    "        c = []\n",
    "        \n",
    "        #for each channel\n",
    "        for ch in range(360):\n",
    "            \n",
    "            col = \"baseline_ch\" + str(ch)\n",
    "            label_name = \"Ch \" + str(ch)\n",
    "            baselines = data[lab][col].head(n).to_numpy()\n",
    "            \n",
    "            #check fluctuations\n",
    "            if np.std(baselines) > eps:\n",
    "                print(\"Warning: Run \" + run + \", Ch \" + str(ch) + \", board \" + get_channel_board(geodb,ch) + \": instable baseline!\")\n",
    "                plt.plot(time,data[lab][col],label=label_name)\n",
    "                c.append(ch)\n",
    "        \n",
    "        if fig.get_axes():\n",
    "            plt.title(run)\n",
    "            plt.xlabel(\"Time\")\n",
    "            plt.ylabel(\"Baseline [ADC]\")\n",
    "            plt.setp(plt.gca().get_xticklabels(), rotation=60, ha=\"right\")\n",
    "            plt.tight_layout()\n",
    "            plt.grid()\n",
    "            plt.legend(loc='center left', bbox_to_anchor=(1, 0.5))\n",
    "            plt.show()\n",
    "            issues[offset] = c\n",
    "            \n",
    "    return issues"
   ]
  },
  {
   "cell_type": "code",
   "execution_count": 5,
   "id": "f6d97d80",
   "metadata": {},
   "outputs": [],
   "source": [
    "# checks stability of using the median to compute the baseline at start\n",
    "# only for channels that have shown to be instable!\n",
    "# n: number of events\n",
    "\n",
    "def check_median_stability(issues, rundb, data, n=20):\n",
    "    \n",
    "    for lab in issues.keys():\n",
    "        \n",
    "        run = rundb[lab]\n",
    "        channels = issues[lab]\n",
    "        print(\"Run \" + run + \", pedestal \" + str(lab) + \": \" + str(len(channels)) + \" channels\")\n",
    "        fig = plt.figure(figsize=(18,40))\n",
    "        fig.subplots_adjust(hspace=0.4, wspace=0.4)\n",
    "        \n",
    "        i = 0\n",
    "        for ch in channels:\n",
    "            \n",
    "            col = \"baseline_ch\" + str(ch)\n",
    "            baselines = data[lab][col].head(n).to_numpy()\n",
    "            median = np.median(baselines)\n",
    "            i = i+1\n",
    "            ax = plt.subplot(len(channels),4,i)\n",
    "            ax.hist(baselines, bins=50, range=(np.amin(baselines)-10,np.amax(baselines)+10), histtype='bar', lw=2, label=\"Mean: {:.1f}\\nStd: {:.1f}\".format(np.mean(baselines),np.std(baselines)))\n",
    "            ax.axvline(x=median, color=\"red\", linestyle='dotted')\n",
    "            ax.legend()\n",
    "            ax.set_title(col)\n",
    "        \n",
    "        #fig.supxlabel(\"Baseline [ADC]\",fontsize=16)\n",
    "        plt.show()"
   ]
  },
  {
   "cell_type": "code",
   "execution_count": 6,
   "id": "dd81f9a4",
   "metadata": {},
   "outputs": [],
   "source": [
    "def get_channel_data(ch, data, n=20, minerr=20.0):\n",
    "    \n",
    "    bs = []\n",
    "    err = []\n",
    "    col = \"baseline_ch\" + str(ch)\n",
    "    offsets = []\n",
    "    \n",
    "    for label, df in data.items():\n",
    "        baselines = df[col].head(n).to_numpy()\n",
    "        bs.append(np.median(baselines))\n",
    "        rms = np.sqrt( np.square(np.subtract(baselines,np.median(baselines))).mean())\n",
    "        if rms < minerr: rms = minerr\n",
    "        err.append(rms)\n",
    "        \n",
    "        offfile = \"baseline_scans/DC_offsets_{}.csv\".format(label)\n",
    "        df2 = pd.read_csv(offfile,sep=',')\n",
    "        dc_offset = df2[df2.channel_id==ch].DC_offset.values[0]\n",
    "        offsets.append(dc_offset)\n",
    "\n",
    "    return offsets, bs, err\n",
    "\n",
    "def line(x,a,b):\n",
    "    return a*x+b"
   ]
  },
  {
   "cell_type": "code",
   "execution_count": 7,
   "id": "6e977e9b",
   "metadata": {},
   "outputs": [],
   "source": [
    "def extrapolate_line(bs_target, a, err_a, b, err_b):\n",
    "    \n",
    "    dacnom = (bs_target-b)/a\n",
    "    \n",
    "    dxdb = -1./a\n",
    "    dxda = (b-bs_target)/(a**2)\n",
    "    \n",
    "    edacnom = np.sqrt( (dxdb*err_b)**2 + (dxda*err_a)**2 )\n",
    "    \n",
    "    return dacnom, edacnom"
   ]
  },
  {
   "cell_type": "code",
   "execution_count": 8,
   "id": "5e9ff159",
   "metadata": {},
   "outputs": [],
   "source": [
    "def dofit( dcoffset, baseline, error_baseline, bs_target = 14747):\n",
    "    \n",
    "    a0 = (baseline[1]-baseline[0])/(dcoffset[1]-dcoffset[0])\n",
    "    b0 = baseline[0]\n",
    "    \n",
    "    params, pcov = curve_fit(line, dcoffset, baseline, sigma=error_baseline, absolute_sigma=True, p0=(a0,b0))\n",
    "            \n",
    "    stderr = np.sqrt(np.diag(pcov))\n",
    "    \n",
    "    xint = np.linspace( np.min(dcoffset)-10, np.max(dcoffset)+10, 1000 )\n",
    "    yint = line(xint, params[0], params[1])\n",
    "    \n",
    "    dacnom, edacnom= extrapolate_line( bs_target, params[0], stderr[0] , params[1], stderr[1] )\n",
    "    \n",
    "    return params, stderr, xint, yint, dacnom, edacnom"
   ]
  },
  {
   "cell_type": "markdown",
   "id": "b855dd4f",
   "metadata": {},
   "source": [
    "# Baseline calibration"
   ]
  },
  {
   "cell_type": "code",
   "execution_count": 27,
   "id": "c1ac3cd5",
   "metadata": {},
   "outputs": [],
   "source": [
    "rundb = { \"nom\":10927, \"p5\":10923, \"m5\":10924,  \"p10\":10926, \"m10\":10925,}# \"m20\":10929 }\n",
    "geodb = readSqlitedb()\n",
    "\n",
    "data = loadfiles(rundb, basepath=\"../runs/\")"
   ]
  },
  {
   "cell_type": "code",
   "execution_count": 28,
   "id": "ba3f4701",
   "metadata": {},
   "outputs": [
    {
     "data": {
      "text/plain": [
       "<Figure size 432x288 with 0 Axes>"
      ]
     },
     "metadata": {},
     "output_type": "display_data"
    },
    {
     "data": {
      "text/plain": [
       "<Figure size 432x288 with 0 Axes>"
      ]
     },
     "metadata": {},
     "output_type": "display_data"
    },
    {
     "data": {
      "text/plain": [
       "<Figure size 432x288 with 0 Axes>"
      ]
     },
     "metadata": {},
     "output_type": "display_data"
    },
    {
     "data": {
      "text/plain": [
       "<Figure size 432x288 with 0 Axes>"
      ]
     },
     "metadata": {},
     "output_type": "display_data"
    },
    {
     "data": {
      "text/plain": [
       "<Figure size 432x288 with 0 Axes>"
      ]
     },
     "metadata": {},
     "output_type": "display_data"
    }
   ],
   "source": [
    "issues = check_baseline_stability(geodb, rundb, data, n=500)\n",
    "#print(issues.items())"
   ]
  },
  {
   "cell_type": "code",
   "execution_count": 29,
   "id": "a82c72bb",
   "metadata": {
    "scrolled": true
   },
   "outputs": [],
   "source": [
    "check_median_stability(issues, rundb, data, n=500)"
   ]
  },
  {
   "cell_type": "code",
   "execution_count": 30,
   "id": "6b79e1ec",
   "metadata": {},
   "outputs": [
    {
     "data": {
      "text/html": [
       "<div>\n",
       "<style scoped>\n",
       "    .dataframe tbody tr th:only-of-type {\n",
       "        vertical-align: middle;\n",
       "    }\n",
       "\n",
       "    .dataframe tbody tr th {\n",
       "        vertical-align: top;\n",
       "    }\n",
       "\n",
       "    .dataframe thead th {\n",
       "        text-align: right;\n",
       "    }\n",
       "</style>\n",
       "<table border=\"1\" class=\"dataframe\">\n",
       "  <thead>\n",
       "    <tr style=\"text-align: right;\">\n",
       "      <th></th>\n",
       "      <th>event</th>\n",
       "      <th>timestamp</th>\n",
       "      <th>baseline_ch0</th>\n",
       "      <th>baseline_ch1</th>\n",
       "      <th>baseline_ch2</th>\n",
       "      <th>baseline_ch3</th>\n",
       "      <th>baseline_ch4</th>\n",
       "      <th>baseline_ch5</th>\n",
       "      <th>baseline_ch6</th>\n",
       "      <th>baseline_ch7</th>\n",
       "      <th>...</th>\n",
       "      <th>baseline_ch350</th>\n",
       "      <th>baseline_ch351</th>\n",
       "      <th>baseline_ch352</th>\n",
       "      <th>baseline_ch353</th>\n",
       "      <th>baseline_ch354</th>\n",
       "      <th>baseline_ch355</th>\n",
       "      <th>baseline_ch356</th>\n",
       "      <th>baseline_ch357</th>\n",
       "      <th>baseline_ch358</th>\n",
       "      <th>baseline_ch359</th>\n",
       "    </tr>\n",
       "  </thead>\n",
       "  <tbody>\n",
       "    <tr>\n",
       "      <th>0</th>\n",
       "      <td>4</td>\n",
       "      <td>1698109206</td>\n",
       "      <td>14920</td>\n",
       "      <td>15006</td>\n",
       "      <td>14917</td>\n",
       "      <td>14947</td>\n",
       "      <td>14916</td>\n",
       "      <td>14923</td>\n",
       "      <td>14924</td>\n",
       "      <td>14893</td>\n",
       "      <td>...</td>\n",
       "      <td>14921</td>\n",
       "      <td>14922</td>\n",
       "      <td>14936</td>\n",
       "      <td>14936</td>\n",
       "      <td>14920</td>\n",
       "      <td>14931</td>\n",
       "      <td>14933</td>\n",
       "      <td>14914</td>\n",
       "      <td>14943</td>\n",
       "      <td>14913</td>\n",
       "    </tr>\n",
       "    <tr>\n",
       "      <th>1</th>\n",
       "      <td>8</td>\n",
       "      <td>1698109207</td>\n",
       "      <td>14918</td>\n",
       "      <td>15006</td>\n",
       "      <td>14917</td>\n",
       "      <td>14947</td>\n",
       "      <td>14917</td>\n",
       "      <td>14923</td>\n",
       "      <td>14923</td>\n",
       "      <td>14894</td>\n",
       "      <td>...</td>\n",
       "      <td>14920</td>\n",
       "      <td>14921</td>\n",
       "      <td>14935</td>\n",
       "      <td>14936</td>\n",
       "      <td>14919</td>\n",
       "      <td>14932</td>\n",
       "      <td>14933</td>\n",
       "      <td>14913</td>\n",
       "      <td>14943</td>\n",
       "      <td>14911</td>\n",
       "    </tr>\n",
       "    <tr>\n",
       "      <th>2</th>\n",
       "      <td>12</td>\n",
       "      <td>1698109207</td>\n",
       "      <td>14919</td>\n",
       "      <td>15006</td>\n",
       "      <td>14917</td>\n",
       "      <td>14948</td>\n",
       "      <td>14916</td>\n",
       "      <td>14923</td>\n",
       "      <td>14924</td>\n",
       "      <td>14893</td>\n",
       "      <td>...</td>\n",
       "      <td>14920</td>\n",
       "      <td>14921</td>\n",
       "      <td>14935</td>\n",
       "      <td>14936</td>\n",
       "      <td>14920</td>\n",
       "      <td>14932</td>\n",
       "      <td>14934</td>\n",
       "      <td>14914</td>\n",
       "      <td>14944</td>\n",
       "      <td>14912</td>\n",
       "    </tr>\n",
       "    <tr>\n",
       "      <th>3</th>\n",
       "      <td>16</td>\n",
       "      <td>1698109207</td>\n",
       "      <td>14919</td>\n",
       "      <td>15007</td>\n",
       "      <td>14917</td>\n",
       "      <td>14948</td>\n",
       "      <td>14916</td>\n",
       "      <td>14924</td>\n",
       "      <td>14925</td>\n",
       "      <td>14894</td>\n",
       "      <td>...</td>\n",
       "      <td>14920</td>\n",
       "      <td>14922</td>\n",
       "      <td>14936</td>\n",
       "      <td>14934</td>\n",
       "      <td>14920</td>\n",
       "      <td>14931</td>\n",
       "      <td>14932</td>\n",
       "      <td>14914</td>\n",
       "      <td>14942</td>\n",
       "      <td>14913</td>\n",
       "    </tr>\n",
       "    <tr>\n",
       "      <th>4</th>\n",
       "      <td>20</td>\n",
       "      <td>1698109208</td>\n",
       "      <td>14919</td>\n",
       "      <td>15007</td>\n",
       "      <td>14917</td>\n",
       "      <td>14948</td>\n",
       "      <td>14916</td>\n",
       "      <td>14923</td>\n",
       "      <td>14925</td>\n",
       "      <td>14894</td>\n",
       "      <td>...</td>\n",
       "      <td>14921</td>\n",
       "      <td>14921</td>\n",
       "      <td>14935</td>\n",
       "      <td>14936</td>\n",
       "      <td>14920</td>\n",
       "      <td>14932</td>\n",
       "      <td>14934</td>\n",
       "      <td>14914</td>\n",
       "      <td>14944</td>\n",
       "      <td>14914</td>\n",
       "    </tr>\n",
       "  </tbody>\n",
       "</table>\n",
       "<p>5 rows × 362 columns</p>\n",
       "</div>"
      ],
      "text/plain": [
       "   event   timestamp  baseline_ch0  baseline_ch1  baseline_ch2  baseline_ch3  \\\n",
       "0      4  1698109206         14920         15006         14917         14947   \n",
       "1      8  1698109207         14918         15006         14917         14947   \n",
       "2     12  1698109207         14919         15006         14917         14948   \n",
       "3     16  1698109207         14919         15007         14917         14948   \n",
       "4     20  1698109208         14919         15007         14917         14948   \n",
       "\n",
       "   baseline_ch4  baseline_ch5  baseline_ch6  baseline_ch7  ...  \\\n",
       "0         14916         14923         14924         14893  ...   \n",
       "1         14917         14923         14923         14894  ...   \n",
       "2         14916         14923         14924         14893  ...   \n",
       "3         14916         14924         14925         14894  ...   \n",
       "4         14916         14923         14925         14894  ...   \n",
       "\n",
       "   baseline_ch350  baseline_ch351  baseline_ch352  baseline_ch353  \\\n",
       "0           14921           14922           14936           14936   \n",
       "1           14920           14921           14935           14936   \n",
       "2           14920           14921           14935           14936   \n",
       "3           14920           14922           14936           14934   \n",
       "4           14921           14921           14935           14936   \n",
       "\n",
       "   baseline_ch354  baseline_ch355  baseline_ch356  baseline_ch357  \\\n",
       "0           14920           14931           14933           14914   \n",
       "1           14919           14932           14933           14913   \n",
       "2           14920           14932           14934           14914   \n",
       "3           14920           14931           14932           14914   \n",
       "4           14920           14932           14934           14914   \n",
       "\n",
       "   baseline_ch358  baseline_ch359  \n",
       "0           14943           14913  \n",
       "1           14943           14911  \n",
       "2           14944           14912  \n",
       "3           14942           14913  \n",
       "4           14944           14914  \n",
       "\n",
       "[5 rows x 362 columns]"
      ]
     },
     "execution_count": 30,
     "metadata": {},
     "output_type": "execute_result"
    }
   ],
   "source": [
    "data[\"m10\"].head()"
   ]
  },
  {
   "cell_type": "markdown",
   "id": "18134d56",
   "metadata": {},
   "source": [
    "### Plot one channel"
   ]
  },
  {
   "cell_type": "code",
   "execution_count": 31,
   "id": "ce5ad466",
   "metadata": {},
   "outputs": [
    {
     "data": {
      "image/png": "[encoded data removed]",
      "text/plain": [
       "<Figure size 720x345.6 with 1 Axes>"
      ]
     },
     "metadata": {
      "needs_background": "light"
     },
     "output_type": "display_data"
    }
   ],
   "source": [
    "channel_id = 334\n",
    "dac, bs, err = get_channel_data(channel_id, data, n=20)\n",
    "target = 14747\n",
    "\n",
    "fig, ax = plt.subplots(1,1, figsize=(10, 4.8))\n",
    "kargs={'marker':'o', 'lw':0.0, 'elinewidth':2.0}\n",
    "    \n",
    "out=plt.errorbar( x=dac, y=bs, yerr=err, label=(\"Channel ID: %d\" % channel_id), **kargs)\n",
    "p, ep, xint, yint, dacnom, edacnom = dofit(dac, bs, err, bs_target=target)\n",
    "            \n",
    "label= \"FIT $ax + b$: \\n\"\n",
    "label+=\"a: %.2e $\\pm$ %3.e\\n\" % ( p[0], ep[0] ) \n",
    "label+=\"b: %.2f $\\pm$ %.3f\\n\" % ( p[1], ep[1] )\n",
    "label+='DAC(%d ADC)= %d $\\pm$ %d' % ( target, dacnom, edacnom )\n",
    "            \n",
    "plt.plot(xint, yint, color=out[0].get_color(), lw=1.0, label=label)\n",
    "    \n",
    "plt.xlabel(\"DAC setting [0-65535]\")\n",
    "plt.ylabel(\"Baseline [ADC]\")\n",
    "plt.legend(fontsize=16)\n",
    "plt.grid()\n",
    "    \n",
    "fig.tight_layout()"
   ]
  },
  {
   "cell_type": "markdown",
   "id": "18ee1d39",
   "metadata": {},
   "source": [
    "### Plot everything"
   ]
  },
  {
   "cell_type": "code",
   "execution_count": 14,
   "id": "56b7db56",
   "metadata": {},
   "outputs": [],
   "source": [
    "pdf = backend_pdf.PdfPages(\"calibrations/baseline_calibration_TEST.pdf\")\n",
    "target = 14747\n",
    "\n",
    "calibration = []\n",
    "DAC_nominal = []\n",
    "\n",
    "for channel_id in range(0, 360):\n",
    "            \n",
    "    # Define the plot\n",
    "    fig, ax = plt.subplots(1,1, figsize=(10, 4.8))\n",
    "    kargs={'marker':'o', 'lw':0.0, 'elinewidth':2.0}\n",
    "\n",
    "    #Fetch data\n",
    "    dac, bs, ebs = get_channel_data(channel_id, data, n=20)\n",
    "             \n",
    "    out=ax.errorbar( x=dac, y=bs, yerr=ebs, label=(\"Channel ID: %d\" % channel_id), **kargs )\n",
    "    \n",
    "    p, ep, xint, yint, dacnom, edacnom = dofit(dac, bs, ebs, bs_target=target)\n",
    "   \n",
    "    calibration.append( {\"channel_id\": channel_id, \n",
    "                    \"p0\": p[0], \n",
    "                    \"ep0\": ep[0], \n",
    "                    \"p1\": p[1], \n",
    "                    \"ep1\": ep[1], \n",
    "                   })\n",
    "    \n",
    "    DAC_nominal.append(dacnom)\n",
    "\n",
    "    label= \"FIT $ax + b$: \\n\"\n",
    "    label+=\"a: %.2e $\\pm$ %3.e\\n\" % ( p[0], ep[0] ) \n",
    "    label+=\"b: %.2f $\\pm$ %.3f\\n\" % ( p[1], ep[1] )\n",
    "    label+='DAC(%d ADC)= %d $\\pm$ %d' % ( target, dacnom, edacnom )\n",
    "            \n",
    "    ax.plot(xint, yint, color=out[0].get_color(), lw=1.0, label=label)\n",
    "    \n",
    "    ax.set_xlabel(\"DAC setting [0-65535]\")\n",
    "    ax.set_ylabel(\"Baseline [ADC]\")\n",
    "    ax.legend(fontsize=16)\n",
    "    \n",
    "    fig.tight_layout()\n",
    "    plt.grid()\n",
    "    pdf.savefig( fig )\n",
    "    \n",
    "    plt.close()\n",
    "\n",
    "\n",
    "pdf.close()"
   ]
  },
  {
   "cell_type": "code",
   "execution_count": 69,
   "id": "5d68b24e",
   "metadata": {},
   "outputs": [],
   "source": [
    "calibDB = pd.DataFrame(calibration)\n",
    "calibDB.to_csv(\"calibrations/baseline_calibration_24Oct2023.csv\",sep=',')"
   ]
  },
  {
   "cell_type": "markdown",
   "id": "2ffbecb0",
   "metadata": {},
   "source": [
    "## Produce output files"
   ]
  },
  {
   "cell_type": "markdown",
   "id": "aa7b206d",
   "metadata": {},
   "source": [
    "### Write requested DC offset"
   ]
  },
  {
   "cell_type": "code",
   "execution_count": 15,
   "id": "f61d342a",
   "metadata": {},
   "outputs": [
    {
     "name": "stdout",
     "output_type": "stream",
     "text": [
      "Writing DC offsets to equalize baselines at 14747\n"
     ]
    }
   ],
   "source": [
    "print(\"Writing DC offsets to equalize baselines at \" + str(target))\n",
    "\n",
    "path = \"calibrations/DC_offsets_for_\"+str(target)+\"_TEST.csv\"\n",
    "ofile = open(path,\"w\")\n",
    "header = \"channel_id,baseline,DC_offset\\n\"\n",
    "ofile.write(header)\n",
    "\n",
    "for channel_id in range(0,360):\n",
    "    out = str(channel_id) + \",\" + str(target) + \",\"\n",
    "    out += str(int(DAC_nominal[channel_id]))+\"\\n\"\n",
    "    ofile.write(out)\n",
    "    \n",
    "ofile.close()"
   ]
  },
  {
   "cell_type": "code",
   "execution_count": 74,
   "id": "c97ab3f4",
   "metadata": {},
   "outputs": [],
   "source": [
    "old_nominal = pd.read_csv(\"baseline_scans/DC_offsets_nom.csv\",sep=\",\")\n",
    "new_nominal = pd.read_csv(\"calibrations/DC_offsets_for_\"+str(target)+\"_24Oct2023_calibrated.csv\",sep=\",\")\n",
    "\n",
    "new_nominal.rename(columns={'baseline':\"baseline_new\", \"DC_offset\":\"DC_offset_new\"}, inplace=True)\n",
    "old_nominal = (old_nominal.join( new_nominal, on=[\"channel_id\"], rsuffix=\"_new\", how='inner'))"
   ]
  },
  {
   "cell_type": "code",
   "execution_count": 75,
   "id": "dbd40f6f",
   "metadata": {},
   "outputs": [
    {
     "data": {
      "text/html": [
       "<div>\n",
       "<style scoped>\n",
       "    .dataframe tbody tr th:only-of-type {\n",
       "        vertical-align: middle;\n",
       "    }\n",
       "\n",
       "    .dataframe tbody tr th {\n",
       "        vertical-align: top;\n",
       "    }\n",
       "\n",
       "    .dataframe thead th {\n",
       "        text-align: right;\n",
       "    }\n",
       "</style>\n",
       "<table border=\"1\" class=\"dataframe\">\n",
       "  <thead>\n",
       "    <tr style=\"text-align: right;\">\n",
       "      <th></th>\n",
       "      <th>channel_id</th>\n",
       "      <th>baseline</th>\n",
       "      <th>DC_offset</th>\n",
       "      <th>channel_id_new</th>\n",
       "      <th>baseline_new</th>\n",
       "      <th>DC_offset_new</th>\n",
       "    </tr>\n",
       "  </thead>\n",
       "  <tbody>\n",
       "    <tr>\n",
       "      <th>0</th>\n",
       "      <td>14</td>\n",
       "      <td>14747</td>\n",
       "      <td>7078</td>\n",
       "      <td>14</td>\n",
       "      <td>14747</td>\n",
       "      <td>6988</td>\n",
       "    </tr>\n",
       "    <tr>\n",
       "      <th>1</th>\n",
       "      <td>11</td>\n",
       "      <td>14747</td>\n",
       "      <td>6559</td>\n",
       "      <td>11</td>\n",
       "      <td>14747</td>\n",
       "      <td>6479</td>\n",
       "    </tr>\n",
       "    <tr>\n",
       "      <th>2</th>\n",
       "      <td>4</td>\n",
       "      <td>14747</td>\n",
       "      <td>7236</td>\n",
       "      <td>4</td>\n",
       "      <td>14747</td>\n",
       "      <td>7169</td>\n",
       "    </tr>\n",
       "    <tr>\n",
       "      <th>3</th>\n",
       "      <td>1</td>\n",
       "      <td>14747</td>\n",
       "      <td>7019</td>\n",
       "      <td>1</td>\n",
       "      <td>14747</td>\n",
       "      <td>7329</td>\n",
       "    </tr>\n",
       "    <tr>\n",
       "      <th>4</th>\n",
       "      <td>7</td>\n",
       "      <td>14747</td>\n",
       "      <td>6829</td>\n",
       "      <td>7</td>\n",
       "      <td>14747</td>\n",
       "      <td>6723</td>\n",
       "    </tr>\n",
       "  </tbody>\n",
       "</table>\n",
       "</div>"
      ],
      "text/plain": [
       "   channel_id  baseline  DC_offset  channel_id_new  baseline_new  \\\n",
       "0          14     14747       7078              14         14747   \n",
       "1          11     14747       6559              11         14747   \n",
       "2           4     14747       7236               4         14747   \n",
       "3           1     14747       7019               1         14747   \n",
       "4           7     14747       6829               7         14747   \n",
       "\n",
       "   DC_offset_new  \n",
       "0           6988  \n",
       "1           6479  \n",
       "2           7169  \n",
       "3           7329  \n",
       "4           6723  "
      ]
     },
     "execution_count": 75,
     "metadata": {},
     "output_type": "execute_result"
    }
   ],
   "source": [
    "old_nominal.head()"
   ]
  },
  {
   "cell_type": "code",
   "execution_count": 81,
   "id": "7cd895ad",
   "metadata": {
    "scrolled": true
   },
   "outputs": [
    {
     "data": {
      "image/png": "[encoded data removed]",
      "text/plain": [
       "<Figure size 800x500 with 1 Axes>"
      ]
     },
     "metadata": {
      "needs_background": "light"
     },
     "output_type": "display_data"
    }
   ],
   "source": [
    "baddies = [1, 19, 20, 30, 32, 33, 35, 36, 42, 58, 110, 140, 157, 166, 172, 237, 240, 280, 283, 334]\n",
    "\n",
    "fig = plt.figure(figsize=(8,5),dpi=100)\n",
    "plt.scatter( old_nominal[\"channel_id\"], old_nominal[\"DC_offset_new\"]-old_nominal[\"DC_offset\"])\n",
    "plt.scatter( old_nominal[old_nominal[\"channel_id\"].isin(baddies)][\"channel_id\"],\n",
    "            old_nominal[old_nominal[\"channel_id\"].isin(baddies)][\"DC_offset_new\"]-old_nominal[old_nominal[\"channel_id\"].isin(baddies)][\"DC_offset\"],\n",
    "           marker=\"x\", color=\"red\", label=\"Bad boys\")\n",
    "\n",
    "plt.xlabel(\"Channel ID\")\n",
    "plt.ylabel(\"DC offset change\")\n",
    "plt.grid()\n",
    "plt.legend()\n",
    "plt.show()"
   ]
  },
  {
   "cell_type": "code",
   "execution_count": 16,
   "id": "34cb318c",
   "metadata": {},
   "outputs": [],
   "source": [
    "with_m20 = pd.read_csv(\"calibrations/DC_offsets_for_\"+str(target)+\"_TEST.csv\",sep=\",\")\n",
    "without_m20 = pd.read_csv(\"calibrations/DC_offsets_for_\"+str(target)+\"_24Oct2023_calibrated.csv\",sep=\",\")\n",
    "\n",
    "with_m20.rename(columns={'baseline':\"baseline_m20\", \"DC_offset\":\"DC_offset_m20\"}, inplace=True)\n",
    "without_m20 = (without_m20.join( with_m20, on=[\"channel_id\"], rsuffix=\"_new\", how='inner'))"
   ]
  },
  {
   "cell_type": "code",
   "execution_count": 17,
   "id": "6c24d31f",
   "metadata": {
    "scrolled": true
   },
   "outputs": [
    {
     "data": {
      "image/png": "[encoded data removed]",
      "text/plain": [
       "<Figure size 800x500 with 1 Axes>"
      ]
     },
     "metadata": {
      "needs_background": "light"
     },
     "output_type": "display_data"
    }
   ],
   "source": [
    "baddies = [1, 19, 20, 30, 32, 33, 35, 36, 42, 58, 110, 140, 157, 166, 172, 237, 240, 280, 283, 334]\n",
    "\n",
    "fig = plt.figure(figsize=(8,5),dpi=100)\n",
    "plt.scatter( without_m20[\"channel_id\"], without_m20[\"DC_offset_m20\"]-without_m20[\"DC_offset\"])\n",
    "plt.scatter( without_m20[without_m20[\"channel_id\"].isin(baddies)][\"channel_id\"],\n",
    "            without_m20[without_m20[\"channel_id\"].isin(baddies)][\"DC_offset_m20\"]-without_m20[without_m20[\"channel_id\"].isin(baddies)][\"DC_offset\"],\n",
    "           marker=\"x\", color=\"red\", label=\"Bad boys\")\n",
    "\n",
    "plt.xlabel(\"Channel ID\")\n",
    "plt.ylabel(\"DC offset change\")\n",
    "plt.grid()\n",
    "plt.legend()\n",
    "plt.show()"
   ]
  },
  {
   "cell_type": "markdown",
   "id": "af58c87f",
   "metadata": {},
   "source": [
    "The difference between the two (including or not including m20) is small for basically all channels. Since errors look generally lower, including it is fine. However, I already created the file without it so I'm not going to change that."
   ]
  },
  {
   "cell_type": "code",
   "execution_count": null,
   "id": "265f0e9b",
   "metadata": {},
   "outputs": [],
   "source": []
  }
 ],
 "metadata": {
  "kernelspec": {
   "display_name": "Python 3 (ipykernel)",
   "language": "python",
   "name": "python3"
  },
  "language_info": {
   "codemirror_mode": {
    "name": "ipython",
    "version": 3
   },
   "file_extension": ".py",
   "mimetype": "text/x-python",
   "name": "python",
   "nbconvert_exporter": "python",
   "pygments_lexer": "ipython3",
   "version": "3.9.2"
  }
 },
 "nbformat": 4,
 "nbformat_minor": 5
}
